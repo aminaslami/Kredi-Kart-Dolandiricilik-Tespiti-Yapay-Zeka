{
 "cells": [
  {
   "cell_type": "markdown",
   "metadata": {},
   "source": [
    "# Dolandırıcılık Tespiti için Sentetik Finansal Veri Kümeleri\n",
    "\n",
    "### Sentetik Finansal Veri Kümeleri: Genel Bir Bakış\n",
    "\n",
    "**Dil: Python**\n",
    "\n",
    "İnternetin ortaya çıkışından bu yana dijital devrim yükseliyor ve hayatımızın her alanına sızdı. En önemli dijital devrimlerden biri finansal sistemde ve özellikle dünyanın herhangi bir yerinden birisine dijital olarak para işlemi yapılmasıdır. İnternetten ürün satın almak, arkadaşlara para göndermek, banka hesabına para yatırmak, yatırım amaçlı vb. dijital işlemler günlük hayatın bir parçası haline geldi, birçok faydası olduğu gibi dolandırıcılık faaliyetlerinin de önünü açtı. İnsanlar kara para aklamak ve parayı yasal bir kaynaktan geliyormuş gibi göstermek için dijital para işlemleri aracını kullanmaya başladı. Bu veri seti (https://www.kaggle.com/ealaxi/paysim1) şu anda Kaggle'daki artan dijital finansal dolandırıcılık riski hakkında bilgi içeren dört kişiden sadece biri ve bu tür verileri elde etmenin zorluğunu vurguluyor.\n",
    "\n",
    "\n",
    "## Sorun Bildirimi\n",
    "Dolandırıcılığı tahmin etmek için ortaya koyduğu ana teknik zorluk, 6 milyon veri satırındaki pozitif ve negatif sınıflar arasındaki oldukça dengesiz dağılımdır. Bu verilerin kullanımına bir başka engel de, açıklamasındaki olası tutarsızlıklardan kaynaklanmaktadır.\n",
    "\n",
    "\n",
    "\n",
    "\n",
    "## Başlıklar\n",
    "**Adım (step) -** gerçek dünyada bir zaman birimini eşler. Bu durumda 1 adım 1 saattir. Toplam adım 744 (30 günlük simülasyon).\n",
    "\n",
    "**Tip (type) -** para-Yatırma (CASH-IN), Para Çekme (CASH-OUT), Borç (DEBIT), Ödeme (PAYMENT) ve TRANSFER.\n",
    "\n",
    "**Tutar (amount) -** yerel para birimi cinsinden işlem tutarı.\n",
    "\n",
    "**Orjinal Adı (nameOrig) -** işlemi başlatan müşteri\n",
    "\n",
    "**Eski Orjinal Bakiye (oldbalanceOrg) -** işlemden önceki ilk bakiye\n",
    "\n",
    "**Yeni Orjinal Bakiye (newbalanceOrig) -** işlemden sonra yeni bakiye\n",
    "\n",
    "**Alıcı Adı (nameDest) -** işlemin alıcısı olan müşteri\n",
    "\n",
    "**Önceki Alıcı Bakiyesi (oldbalanceDest) -** işlemden önceki ilk bakiye alıcısı. M (Tüccarlar) ile başlayan müşteriler için bilgi olmadığını unutmayın.\n",
    "\n",
    "**Yeni Alıcı Bakiyesi (newbalanceDest) -** işlemden sonra yeni bakiye alıcısı. M (Tüccarlar) ile başlayan müşteriler için bilgi olmadığını unutmayın.\n",
    "\n",
    "**Dolandırıcı (isFraud) -** Simülasyon içerisinde dolandırıcı ajanlar tarafından yapılan işlemlerdir. Bu özel veri setinde, acentelerin hileli davranışı, kontrolü veya müşteri hesaplarını ele geçirerek kar elde etmeyi ve başka bir hesaba aktararak ve ardından sistemden nakde çevirerek fonları boşaltmaya çalışmayı amaçlamaktadır.\n",
    "\n",
    "**Şüpheli Dolandırıcı isFlaggedFraud -** İş modeli, bir hesaptan diğerine yapılan büyük aktarımları kontrol etmeyi ve yasa dışı girişimleri işaretlemeyi amaçlar. Bu veri kümesindeki yasadışı bir girişim, tek bir işlemde 200.000'den fazla aktarım girişimidir.\n",
    "\n",
    "\n",
    "\n",
    "\n",
    "## Hedefler\n",
    "\n",
    "* Dolandırıcılık faaliyetlerinin modelini çıkarmak için verilerin keşifsel analizi.\n",
    "\n",
    "* Dolandırıcılık ve dolandırıcılık dışı işlemleri sınıflandırmak için bir makine öğrenimi modeli oluşturma.\n",
    "\n",
    "* Modeli ayarlayarak yanlış negatifleri azaltma.\n"
   ]
  },
  {
   "cell_type": "code",
   "execution_count": 1,
   "metadata": {},
   "outputs": [
    {
     "name": "stderr",
     "output_type": "stream",
     "text": [
      "C:\\Users\\ASUS\\anaconda3\\lib\\site-packages\\numpy\\_distributor_init.py:30: UserWarning: loaded more than 1 DLL from .libs:\n",
      "C:\\Users\\ASUS\\anaconda3\\lib\\site-packages\\numpy\\.libs\\libopenblas.PYQHXLVVQ7VESDPUVUADXEVJOBGHJPAY.gfortran-win_amd64.dll\n",
      "C:\\Users\\ASUS\\anaconda3\\lib\\site-packages\\numpy\\.libs\\libopenblas.WCDJNK7YVMPZQ2ME2ZZHJJRJ3JIKNDB7.gfortran-win_amd64.dll\n",
      "  warnings.warn(\"loaded more than 1 DLL from .libs:\"\n"
     ]
    }
   ],
   "source": [
    "import pandas as pd\n",
    "import numpy as np\n",
    "import matplotlib.pyplot as plt\n",
    "import seaborn as sns\n",
    "from sklearn.model_selection import GridSearchCV,train_test_split\n",
    "from sklearn.ensemble import GradientBoostingClassifier\n",
    "from sklearn.tree import DecisionTreeClassifier\n",
    "from sklearn.metrics import f1_score,classification_report,roc_auc_score,precision_score,recall_score\n",
    "from sklearn.linear_model import LogisticRegression\n",
    "from sklearn.preprocessing import StandardScaler\n",
    "\n",
    "import warnings\n",
    "warnings.filterwarnings('ignore')"
   ]
  },
  {
   "cell_type": "markdown",
   "metadata": {},
   "source": [
    "## Veri yükleme"
   ]
  },
  {
   "cell_type": "code",
   "execution_count": 2,
   "metadata": {},
   "outputs": [],
   "source": [
    "df = pd.read_csv(\"PS_20174392719_1491204439457_log.csv\")"
   ]
  },
  {
   "cell_type": "code",
   "execution_count": 3,
   "metadata": {},
   "outputs": [
    {
     "data": {
      "text/html": [
       "<div>\n",
       "<style scoped>\n",
       "    .dataframe tbody tr th:only-of-type {\n",
       "        vertical-align: middle;\n",
       "    }\n",
       "\n",
       "    .dataframe tbody tr th {\n",
       "        vertical-align: top;\n",
       "    }\n",
       "\n",
       "    .dataframe thead th {\n",
       "        text-align: right;\n",
       "    }\n",
       "</style>\n",
       "<table border=\"1\" class=\"dataframe\">\n",
       "  <thead>\n",
       "    <tr style=\"text-align: right;\">\n",
       "      <th></th>\n",
       "      <th>step</th>\n",
       "      <th>type</th>\n",
       "      <th>amount</th>\n",
       "      <th>nameOrig</th>\n",
       "      <th>oldbalanceOrg</th>\n",
       "      <th>newbalanceOrig</th>\n",
       "      <th>nameDest</th>\n",
       "      <th>oldbalanceDest</th>\n",
       "      <th>newbalanceDest</th>\n",
       "      <th>isFraud</th>\n",
       "      <th>isFlaggedFraud</th>\n",
       "    </tr>\n",
       "  </thead>\n",
       "  <tbody>\n",
       "    <tr>\n",
       "      <th>0</th>\n",
       "      <td>1</td>\n",
       "      <td>PAYMENT</td>\n",
       "      <td>9839.64</td>\n",
       "      <td>C1231006815</td>\n",
       "      <td>170136.0</td>\n",
       "      <td>160296.36</td>\n",
       "      <td>M1979787155</td>\n",
       "      <td>0.0</td>\n",
       "      <td>0.0</td>\n",
       "      <td>0</td>\n",
       "      <td>0</td>\n",
       "    </tr>\n",
       "    <tr>\n",
       "      <th>1</th>\n",
       "      <td>1</td>\n",
       "      <td>PAYMENT</td>\n",
       "      <td>1864.28</td>\n",
       "      <td>C1666544295</td>\n",
       "      <td>21249.0</td>\n",
       "      <td>19384.72</td>\n",
       "      <td>M2044282225</td>\n",
       "      <td>0.0</td>\n",
       "      <td>0.0</td>\n",
       "      <td>0</td>\n",
       "      <td>0</td>\n",
       "    </tr>\n",
       "    <tr>\n",
       "      <th>2</th>\n",
       "      <td>1</td>\n",
       "      <td>TRANSFER</td>\n",
       "      <td>181.00</td>\n",
       "      <td>C1305486145</td>\n",
       "      <td>181.0</td>\n",
       "      <td>0.00</td>\n",
       "      <td>C553264065</td>\n",
       "      <td>0.0</td>\n",
       "      <td>0.0</td>\n",
       "      <td>1</td>\n",
       "      <td>0</td>\n",
       "    </tr>\n",
       "    <tr>\n",
       "      <th>3</th>\n",
       "      <td>1</td>\n",
       "      <td>CASH_OUT</td>\n",
       "      <td>181.00</td>\n",
       "      <td>C840083671</td>\n",
       "      <td>181.0</td>\n",
       "      <td>0.00</td>\n",
       "      <td>C38997010</td>\n",
       "      <td>21182.0</td>\n",
       "      <td>0.0</td>\n",
       "      <td>1</td>\n",
       "      <td>0</td>\n",
       "    </tr>\n",
       "    <tr>\n",
       "      <th>4</th>\n",
       "      <td>1</td>\n",
       "      <td>PAYMENT</td>\n",
       "      <td>11668.14</td>\n",
       "      <td>C2048537720</td>\n",
       "      <td>41554.0</td>\n",
       "      <td>29885.86</td>\n",
       "      <td>M1230701703</td>\n",
       "      <td>0.0</td>\n",
       "      <td>0.0</td>\n",
       "      <td>0</td>\n",
       "      <td>0</td>\n",
       "    </tr>\n",
       "  </tbody>\n",
       "</table>\n",
       "</div>"
      ],
      "text/plain": [
       "   step      type    amount     nameOrig  oldbalanceOrg  newbalanceOrig  \\\n",
       "0     1   PAYMENT   9839.64  C1231006815       170136.0       160296.36   \n",
       "1     1   PAYMENT   1864.28  C1666544295        21249.0        19384.72   \n",
       "2     1  TRANSFER    181.00  C1305486145          181.0            0.00   \n",
       "3     1  CASH_OUT    181.00   C840083671          181.0            0.00   \n",
       "4     1   PAYMENT  11668.14  C2048537720        41554.0        29885.86   \n",
       "\n",
       "      nameDest  oldbalanceDest  newbalanceDest  isFraud  isFlaggedFraud  \n",
       "0  M1979787155             0.0             0.0        0               0  \n",
       "1  M2044282225             0.0             0.0        0               0  \n",
       "2   C553264065             0.0             0.0        1               0  \n",
       "3    C38997010         21182.0             0.0        1               0  \n",
       "4  M1230701703             0.0             0.0        0               0  "
      ]
     },
     "execution_count": 3,
     "metadata": {},
     "output_type": "execute_result"
    }
   ],
   "source": [
    "df.head()"
   ]
  },
  {
   "cell_type": "code",
   "execution_count": 4,
   "metadata": {},
   "outputs": [
    {
     "data": {
      "text/html": [
       "<div>\n",
       "<style scoped>\n",
       "    .dataframe tbody tr th:only-of-type {\n",
       "        vertical-align: middle;\n",
       "    }\n",
       "\n",
       "    .dataframe tbody tr th {\n",
       "        vertical-align: top;\n",
       "    }\n",
       "\n",
       "    .dataframe thead th {\n",
       "        text-align: right;\n",
       "    }\n",
       "</style>\n",
       "<table border=\"1\" class=\"dataframe\">\n",
       "  <thead>\n",
       "    <tr style=\"text-align: right;\">\n",
       "      <th></th>\n",
       "      <th>step</th>\n",
       "      <th>type</th>\n",
       "      <th>amount</th>\n",
       "      <th>nameOrig</th>\n",
       "      <th>oldbalanceOrg</th>\n",
       "      <th>newbalanceOrig</th>\n",
       "      <th>nameDest</th>\n",
       "      <th>oldbalanceDest</th>\n",
       "      <th>newbalanceDest</th>\n",
       "      <th>isFraud</th>\n",
       "      <th>isFlaggedFraud</th>\n",
       "    </tr>\n",
       "  </thead>\n",
       "  <tbody>\n",
       "    <tr>\n",
       "      <th>0</th>\n",
       "      <td>1</td>\n",
       "      <td>PAYMENT</td>\n",
       "      <td>9839.64</td>\n",
       "      <td>C1231006815</td>\n",
       "      <td>170136.00</td>\n",
       "      <td>160296.36</td>\n",
       "      <td>M1979787155</td>\n",
       "      <td>0.00</td>\n",
       "      <td>0.00</td>\n",
       "      <td>0</td>\n",
       "      <td>0</td>\n",
       "    </tr>\n",
       "    <tr>\n",
       "      <th>1</th>\n",
       "      <td>1</td>\n",
       "      <td>PAYMENT</td>\n",
       "      <td>1864.28</td>\n",
       "      <td>C1666544295</td>\n",
       "      <td>21249.00</td>\n",
       "      <td>19384.72</td>\n",
       "      <td>M2044282225</td>\n",
       "      <td>0.00</td>\n",
       "      <td>0.00</td>\n",
       "      <td>0</td>\n",
       "      <td>0</td>\n",
       "    </tr>\n",
       "    <tr>\n",
       "      <th>2</th>\n",
       "      <td>1</td>\n",
       "      <td>TRANSFER</td>\n",
       "      <td>181.00</td>\n",
       "      <td>C1305486145</td>\n",
       "      <td>181.00</td>\n",
       "      <td>0.00</td>\n",
       "      <td>C553264065</td>\n",
       "      <td>0.00</td>\n",
       "      <td>0.00</td>\n",
       "      <td>1</td>\n",
       "      <td>0</td>\n",
       "    </tr>\n",
       "    <tr>\n",
       "      <th>3</th>\n",
       "      <td>1</td>\n",
       "      <td>CASH_OUT</td>\n",
       "      <td>181.00</td>\n",
       "      <td>C840083671</td>\n",
       "      <td>181.00</td>\n",
       "      <td>0.00</td>\n",
       "      <td>C38997010</td>\n",
       "      <td>21182.00</td>\n",
       "      <td>0.00</td>\n",
       "      <td>1</td>\n",
       "      <td>0</td>\n",
       "    </tr>\n",
       "    <tr>\n",
       "      <th>4</th>\n",
       "      <td>1</td>\n",
       "      <td>PAYMENT</td>\n",
       "      <td>11668.14</td>\n",
       "      <td>C2048537720</td>\n",
       "      <td>41554.00</td>\n",
       "      <td>29885.86</td>\n",
       "      <td>M1230701703</td>\n",
       "      <td>0.00</td>\n",
       "      <td>0.00</td>\n",
       "      <td>0</td>\n",
       "      <td>0</td>\n",
       "    </tr>\n",
       "    <tr>\n",
       "      <th>...</th>\n",
       "      <td>...</td>\n",
       "      <td>...</td>\n",
       "      <td>...</td>\n",
       "      <td>...</td>\n",
       "      <td>...</td>\n",
       "      <td>...</td>\n",
       "      <td>...</td>\n",
       "      <td>...</td>\n",
       "      <td>...</td>\n",
       "      <td>...</td>\n",
       "      <td>...</td>\n",
       "    </tr>\n",
       "    <tr>\n",
       "      <th>6362615</th>\n",
       "      <td>743</td>\n",
       "      <td>CASH_OUT</td>\n",
       "      <td>339682.13</td>\n",
       "      <td>C786484425</td>\n",
       "      <td>339682.13</td>\n",
       "      <td>0.00</td>\n",
       "      <td>C776919290</td>\n",
       "      <td>0.00</td>\n",
       "      <td>339682.13</td>\n",
       "      <td>1</td>\n",
       "      <td>0</td>\n",
       "    </tr>\n",
       "    <tr>\n",
       "      <th>6362616</th>\n",
       "      <td>743</td>\n",
       "      <td>TRANSFER</td>\n",
       "      <td>6311409.28</td>\n",
       "      <td>C1529008245</td>\n",
       "      <td>6311409.28</td>\n",
       "      <td>0.00</td>\n",
       "      <td>C1881841831</td>\n",
       "      <td>0.00</td>\n",
       "      <td>0.00</td>\n",
       "      <td>1</td>\n",
       "      <td>0</td>\n",
       "    </tr>\n",
       "    <tr>\n",
       "      <th>6362617</th>\n",
       "      <td>743</td>\n",
       "      <td>CASH_OUT</td>\n",
       "      <td>6311409.28</td>\n",
       "      <td>C1162922333</td>\n",
       "      <td>6311409.28</td>\n",
       "      <td>0.00</td>\n",
       "      <td>C1365125890</td>\n",
       "      <td>68488.84</td>\n",
       "      <td>6379898.11</td>\n",
       "      <td>1</td>\n",
       "      <td>0</td>\n",
       "    </tr>\n",
       "    <tr>\n",
       "      <th>6362618</th>\n",
       "      <td>743</td>\n",
       "      <td>TRANSFER</td>\n",
       "      <td>850002.52</td>\n",
       "      <td>C1685995037</td>\n",
       "      <td>850002.52</td>\n",
       "      <td>0.00</td>\n",
       "      <td>C2080388513</td>\n",
       "      <td>0.00</td>\n",
       "      <td>0.00</td>\n",
       "      <td>1</td>\n",
       "      <td>0</td>\n",
       "    </tr>\n",
       "    <tr>\n",
       "      <th>6362619</th>\n",
       "      <td>743</td>\n",
       "      <td>CASH_OUT</td>\n",
       "      <td>850002.52</td>\n",
       "      <td>C1280323807</td>\n",
       "      <td>850002.52</td>\n",
       "      <td>0.00</td>\n",
       "      <td>C873221189</td>\n",
       "      <td>6510099.11</td>\n",
       "      <td>7360101.63</td>\n",
       "      <td>1</td>\n",
       "      <td>0</td>\n",
       "    </tr>\n",
       "  </tbody>\n",
       "</table>\n",
       "<p>6362620 rows × 11 columns</p>\n",
       "</div>"
      ],
      "text/plain": [
       "         step      type      amount     nameOrig  oldbalanceOrg  \\\n",
       "0           1   PAYMENT     9839.64  C1231006815      170136.00   \n",
       "1           1   PAYMENT     1864.28  C1666544295       21249.00   \n",
       "2           1  TRANSFER      181.00  C1305486145         181.00   \n",
       "3           1  CASH_OUT      181.00   C840083671         181.00   \n",
       "4           1   PAYMENT    11668.14  C2048537720       41554.00   \n",
       "...       ...       ...         ...          ...            ...   \n",
       "6362615   743  CASH_OUT   339682.13   C786484425      339682.13   \n",
       "6362616   743  TRANSFER  6311409.28  C1529008245     6311409.28   \n",
       "6362617   743  CASH_OUT  6311409.28  C1162922333     6311409.28   \n",
       "6362618   743  TRANSFER   850002.52  C1685995037      850002.52   \n",
       "6362619   743  CASH_OUT   850002.52  C1280323807      850002.52   \n",
       "\n",
       "         newbalanceOrig     nameDest  oldbalanceDest  newbalanceDest  isFraud  \\\n",
       "0             160296.36  M1979787155            0.00            0.00        0   \n",
       "1              19384.72  M2044282225            0.00            0.00        0   \n",
       "2                  0.00   C553264065            0.00            0.00        1   \n",
       "3                  0.00    C38997010        21182.00            0.00        1   \n",
       "4              29885.86  M1230701703            0.00            0.00        0   \n",
       "...                 ...          ...             ...             ...      ...   \n",
       "6362615            0.00   C776919290            0.00       339682.13        1   \n",
       "6362616            0.00  C1881841831            0.00            0.00        1   \n",
       "6362617            0.00  C1365125890        68488.84      6379898.11        1   \n",
       "6362618            0.00  C2080388513            0.00            0.00        1   \n",
       "6362619            0.00   C873221189      6510099.11      7360101.63        1   \n",
       "\n",
       "         isFlaggedFraud  \n",
       "0                     0  \n",
       "1                     0  \n",
       "2                     0  \n",
       "3                     0  \n",
       "4                     0  \n",
       "...                 ...  \n",
       "6362615               0  \n",
       "6362616               0  \n",
       "6362617               0  \n",
       "6362618               0  \n",
       "6362619               0  \n",
       "\n",
       "[6362620 rows x 11 columns]"
      ]
     },
     "execution_count": 4,
     "metadata": {},
     "output_type": "execute_result"
    }
   ],
   "source": [
    "df"
   ]
  },
  {
   "cell_type": "markdown",
   "metadata": {},
   "source": [
    "## Örnek Alma"
   ]
  },
  {
   "cell_type": "code",
   "execution_count": 5,
   "metadata": {},
   "outputs": [],
   "source": [
    "from sklearn.model_selection import train_test_split\n",
    "\n",
    "df_sample, _ = train_test_split(df, test_size=0.92141601,random_state=1234, stratify=df[\"isFraud\"]) \n",
    "\n",
    "# 500000'den örnek 0.92141601 alındı."
   ]
  },
  {
   "cell_type": "code",
   "execution_count": 6,
   "metadata": {},
   "outputs": [
    {
     "data": {
      "text/plain": [
       "(500000, 11)"
      ]
     },
     "execution_count": 6,
     "metadata": {},
     "output_type": "execute_result"
    }
   ],
   "source": [
    "df_sample.shape"
   ]
  },
  {
   "cell_type": "markdown",
   "metadata": {},
   "source": [
    "## Eğitim - Test Ayrımı"
   ]
  },
  {
   "cell_type": "code",
   "execution_count": 7,
   "metadata": {},
   "outputs": [],
   "source": [
    "df_train, df_test = train_test_split(df_sample, test_size=0.2,random_state=123,stratify=df_sample[\"isFraud\"])\n",
    "df_train, df_val = train_test_split(df_train, test_size=0.25,random_state=123,stratify=df_train[\"isFraud\"])"
   ]
  },
  {
   "cell_type": "code",
   "execution_count": 8,
   "metadata": {},
   "outputs": [
    {
     "data": {
      "text/plain": [
       "(300000, 11)"
      ]
     },
     "execution_count": 8,
     "metadata": {},
     "output_type": "execute_result"
    }
   ],
   "source": [
    "df_train.shape"
   ]
  },
  {
   "cell_type": "code",
   "execution_count": 9,
   "metadata": {},
   "outputs": [
    {
     "data": {
      "text/plain": [
       "(100000, 11)"
      ]
     },
     "execution_count": 9,
     "metadata": {},
     "output_type": "execute_result"
    }
   ],
   "source": [
    "df_test.shape"
   ]
  },
  {
   "cell_type": "code",
   "execution_count": 10,
   "metadata": {},
   "outputs": [
    {
     "data": {
      "text/plain": [
       "(100000, 11)"
      ]
     },
     "execution_count": 10,
     "metadata": {},
     "output_type": "execute_result"
    }
   ],
   "source": [
    "df_val.shape"
   ]
  },
  {
   "cell_type": "markdown",
   "metadata": {},
   "source": [
    "## Keşfedici Veri Analizi - Exploratory Data Analysis (EDA)"
   ]
  },
  {
   "cell_type": "code",
   "execution_count": 11,
   "metadata": {},
   "outputs": [
    {
     "name": "stdout",
     "output_type": "stream",
     "text": [
      "<class 'pandas.core.frame.DataFrame'>\n",
      "Int64Index: 300000 entries, 486548 to 4214666\n",
      "Data columns (total 11 columns):\n",
      " #   Column          Non-Null Count   Dtype  \n",
      "---  ------          --------------   -----  \n",
      " 0   step            300000 non-null  int64  \n",
      " 1   type            300000 non-null  object \n",
      " 2   amount          300000 non-null  float64\n",
      " 3   nameOrig        300000 non-null  object \n",
      " 4   oldbalanceOrg   300000 non-null  float64\n",
      " 5   newbalanceOrig  300000 non-null  float64\n",
      " 6   nameDest        300000 non-null  object \n",
      " 7   oldbalanceDest  300000 non-null  float64\n",
      " 8   newbalanceDest  300000 non-null  float64\n",
      " 9   isFraud         300000 non-null  int64  \n",
      " 10  isFlaggedFraud  300000 non-null  int64  \n",
      "dtypes: float64(5), int64(3), object(3)\n",
      "memory usage: 27.5+ MB\n"
     ]
    }
   ],
   "source": [
    "df_train.info()"
   ]
  },
  {
   "cell_type": "code",
   "execution_count": 12,
   "metadata": {},
   "outputs": [
    {
     "data": {
      "text/plain": [
       "step              0\n",
       "type              0\n",
       "amount            0\n",
       "nameOrig          0\n",
       "oldbalanceOrg     0\n",
       "newbalanceOrig    0\n",
       "nameDest          0\n",
       "oldbalanceDest    0\n",
       "newbalanceDest    0\n",
       "isFraud           0\n",
       "isFlaggedFraud    0\n",
       "dtype: int64"
      ]
     },
     "execution_count": 12,
     "metadata": {},
     "output_type": "execute_result"
    }
   ],
   "source": [
    "df_train.isnull().sum()"
   ]
  },
  {
   "cell_type": "code",
   "execution_count": 13,
   "metadata": {},
   "outputs": [],
   "source": [
    "# Tekrarlamayaları Azaltma\n",
    "\n",
    "df_train.drop_duplicates(keep=False, inplace=True)"
   ]
  },
  {
   "cell_type": "code",
   "execution_count": 14,
   "metadata": {},
   "outputs": [
    {
     "data": {
      "text/plain": [
       "(300000, 11)"
      ]
     },
     "execution_count": 14,
     "metadata": {},
     "output_type": "execute_result"
    }
   ],
   "source": [
    "df_train.shape"
   ]
  },
  {
   "cell_type": "code",
   "execution_count": 15,
   "metadata": {},
   "outputs": [
    {
     "data": {
      "text/html": [
       "<div>\n",
       "<style scoped>\n",
       "    .dataframe tbody tr th:only-of-type {\n",
       "        vertical-align: middle;\n",
       "    }\n",
       "\n",
       "    .dataframe tbody tr th {\n",
       "        vertical-align: top;\n",
       "    }\n",
       "\n",
       "    .dataframe thead th {\n",
       "        text-align: right;\n",
       "    }\n",
       "</style>\n",
       "<table border=\"1\" class=\"dataframe\">\n",
       "  <thead>\n",
       "    <tr style=\"text-align: right;\">\n",
       "      <th></th>\n",
       "      <th>step</th>\n",
       "      <th>amount</th>\n",
       "      <th>oldbalanceOrg</th>\n",
       "      <th>newbalanceOrig</th>\n",
       "      <th>oldbalanceDest</th>\n",
       "      <th>newbalanceDest</th>\n",
       "      <th>isFraud</th>\n",
       "      <th>isFlaggedFraud</th>\n",
       "    </tr>\n",
       "  </thead>\n",
       "  <tbody>\n",
       "    <tr>\n",
       "      <th>count</th>\n",
       "      <td>300000.000000</td>\n",
       "      <td>3.000000e+05</td>\n",
       "      <td>3.000000e+05</td>\n",
       "      <td>3.000000e+05</td>\n",
       "      <td>3.000000e+05</td>\n",
       "      <td>3.000000e+05</td>\n",
       "      <td>300000.000000</td>\n",
       "      <td>300000.000000</td>\n",
       "    </tr>\n",
       "    <tr>\n",
       "      <th>mean</th>\n",
       "      <td>243.518963</td>\n",
       "      <td>1.797030e+05</td>\n",
       "      <td>8.336019e+05</td>\n",
       "      <td>8.549314e+05</td>\n",
       "      <td>1.097957e+06</td>\n",
       "      <td>1.221330e+06</td>\n",
       "      <td>0.001290</td>\n",
       "      <td>0.000003</td>\n",
       "    </tr>\n",
       "    <tr>\n",
       "      <th>std</th>\n",
       "      <td>141.901298</td>\n",
       "      <td>6.022078e+05</td>\n",
       "      <td>2.895000e+06</td>\n",
       "      <td>2.930307e+06</td>\n",
       "      <td>3.346001e+06</td>\n",
       "      <td>3.621448e+06</td>\n",
       "      <td>0.035893</td>\n",
       "      <td>0.001826</td>\n",
       "    </tr>\n",
       "    <tr>\n",
       "      <th>min</th>\n",
       "      <td>1.000000</td>\n",
       "      <td>0.000000e+00</td>\n",
       "      <td>0.000000e+00</td>\n",
       "      <td>0.000000e+00</td>\n",
       "      <td>0.000000e+00</td>\n",
       "      <td>0.000000e+00</td>\n",
       "      <td>0.000000</td>\n",
       "      <td>0.000000</td>\n",
       "    </tr>\n",
       "    <tr>\n",
       "      <th>25%</th>\n",
       "      <td>156.000000</td>\n",
       "      <td>1.324180e+04</td>\n",
       "      <td>0.000000e+00</td>\n",
       "      <td>0.000000e+00</td>\n",
       "      <td>0.000000e+00</td>\n",
       "      <td>0.000000e+00</td>\n",
       "      <td>0.000000</td>\n",
       "      <td>0.000000</td>\n",
       "    </tr>\n",
       "    <tr>\n",
       "      <th>50%</th>\n",
       "      <td>239.000000</td>\n",
       "      <td>7.426901e+04</td>\n",
       "      <td>1.392974e+04</td>\n",
       "      <td>0.000000e+00</td>\n",
       "      <td>1.305861e+05</td>\n",
       "      <td>2.120638e+05</td>\n",
       "      <td>0.000000</td>\n",
       "      <td>0.000000</td>\n",
       "    </tr>\n",
       "    <tr>\n",
       "      <th>75%</th>\n",
       "      <td>334.000000</td>\n",
       "      <td>2.077247e+05</td>\n",
       "      <td>1.068955e+05</td>\n",
       "      <td>1.439608e+05</td>\n",
       "      <td>9.426017e+05</td>\n",
       "      <td>1.111275e+06</td>\n",
       "      <td>0.000000</td>\n",
       "      <td>0.000000</td>\n",
       "    </tr>\n",
       "    <tr>\n",
       "      <th>max</th>\n",
       "      <td>742.000000</td>\n",
       "      <td>5.512957e+07</td>\n",
       "      <td>3.741827e+07</td>\n",
       "      <td>3.498450e+07</td>\n",
       "      <td>3.114049e+08</td>\n",
       "      <td>3.114929e+08</td>\n",
       "      <td>1.000000</td>\n",
       "      <td>1.000000</td>\n",
       "    </tr>\n",
       "  </tbody>\n",
       "</table>\n",
       "</div>"
      ],
      "text/plain": [
       "                step        amount  oldbalanceOrg  newbalanceOrig  \\\n",
       "count  300000.000000  3.000000e+05   3.000000e+05    3.000000e+05   \n",
       "mean      243.518963  1.797030e+05   8.336019e+05    8.549314e+05   \n",
       "std       141.901298  6.022078e+05   2.895000e+06    2.930307e+06   \n",
       "min         1.000000  0.000000e+00   0.000000e+00    0.000000e+00   \n",
       "25%       156.000000  1.324180e+04   0.000000e+00    0.000000e+00   \n",
       "50%       239.000000  7.426901e+04   1.392974e+04    0.000000e+00   \n",
       "75%       334.000000  2.077247e+05   1.068955e+05    1.439608e+05   \n",
       "max       742.000000  5.512957e+07   3.741827e+07    3.498450e+07   \n",
       "\n",
       "       oldbalanceDest  newbalanceDest        isFraud  isFlaggedFraud  \n",
       "count    3.000000e+05    3.000000e+05  300000.000000   300000.000000  \n",
       "mean     1.097957e+06    1.221330e+06       0.001290        0.000003  \n",
       "std      3.346001e+06    3.621448e+06       0.035893        0.001826  \n",
       "min      0.000000e+00    0.000000e+00       0.000000        0.000000  \n",
       "25%      0.000000e+00    0.000000e+00       0.000000        0.000000  \n",
       "50%      1.305861e+05    2.120638e+05       0.000000        0.000000  \n",
       "75%      9.426017e+05    1.111275e+06       0.000000        0.000000  \n",
       "max      3.114049e+08    3.114929e+08       1.000000        1.000000  "
      ]
     },
     "execution_count": 15,
     "metadata": {},
     "output_type": "execute_result"
    }
   ],
   "source": [
    "df_train.describe()"
   ]
  },
  {
   "cell_type": "markdown",
   "metadata": {},
   "source": [
    "### 1 - isFraud (Dolandırıcı)"
   ]
  },
  {
   "cell_type": "code",
   "execution_count": 16,
   "metadata": {},
   "outputs": [
    {
     "data": {
      "image/png": "[encoded data removed]",
      "text/plain": [
       "<Figure size 288x288 with 1 Axes>"
      ]
     },
     "metadata": {
      "needs_background": "light"
     },
     "output_type": "display_data"
    }
   ],
   "source": [
    "plt.figure(figsize=(4,4))\n",
    "df_train['isFraud'].value_counts()\n",
    "sns.set_theme(style=\"darkgrid\")\n",
    "ax = sns.countplot(x=\"isFraud\", data=df_train,color = \"#00FFFF\" )\n",
    "for p in ax.patches:\n",
    "    ax.annotate(str(format(int(p.get_height()), ',d')),\n",
    "            (p.get_x(), p.get_height()))"
   ]
  },
  {
   "cell_type": "markdown",
   "metadata": {},
   "source": [
    "**isFraud (Dolandırıcı) Sütunları, sınıfların dengesiz olduğunu gösteriyor**\n",
    "\n",
    "\n",
    "\n",
    "### 2 - isFlaggedFraud (Şüpheli Dolandırıcı)"
   ]
  },
  {
   "cell_type": "code",
   "execution_count": 17,
   "metadata": {},
   "outputs": [
    {
     "data": {
      "image/png": "[encoded data removed]",
      "text/plain": [
       "<Figure size 432x288 with 1 Axes>"
      ]
     },
     "metadata": {},
     "output_type": "display_data"
    }
   ],
   "source": [
    "df_train['isFlaggedFraud'].value_counts()\n",
    "sns.set_theme(style=\"darkgrid\")\n",
    "ax = sns.countplot(x=\"isFlaggedFraud\", data=df_train,color = \"#00FFFF\")\n",
    "for p in ax.patches:\n",
    "    ax.annotate(str(format(int(p.get_height()), ',d')), (p.get_x(), p.get_height()))"
   ]
  },
  {
   "cell_type": "markdown",
   "metadata": {},
   "source": [
    "### 3 - Type (Tip)"
   ]
  },
  {
   "cell_type": "code",
   "execution_count": 18,
   "metadata": {},
   "outputs": [
    {
     "data": {
      "image/png": "[encoded data removed]",
      "text/plain": [
       "<Figure size 576x576 with 1 Axes>"
      ]
     },
     "metadata": {},
     "output_type": "display_data"
    }
   ],
   "source": [
    "f, ax = plt.subplots(1, 1, figsize=(4, 4))\n",
    "df_train.type.value_counts().plot(kind='bar', title=\"Transaction type\", ax=ax, figsize=(8,8),color = \"#00FFFF\")\n",
    "plt.ticklabel_format(style='plain', axis='y')"
   ]
  },
  {
   "cell_type": "code",
   "execution_count": 19,
   "metadata": {},
   "outputs": [
    {
     "data": {
      "text/html": [
       "<div>\n",
       "<style scoped>\n",
       "    .dataframe tbody tr th:only-of-type {\n",
       "        vertical-align: middle;\n",
       "    }\n",
       "\n",
       "    .dataframe tbody tr th {\n",
       "        vertical-align: top;\n",
       "    }\n",
       "\n",
       "    .dataframe thead th {\n",
       "        text-align: right;\n",
       "    }\n",
       "</style>\n",
       "<table border=\"1\" class=\"dataframe\">\n",
       "  <thead>\n",
       "    <tr style=\"text-align: right;\">\n",
       "      <th>isFraud</th>\n",
       "      <th>0</th>\n",
       "      <th>1</th>\n",
       "    </tr>\n",
       "    <tr>\n",
       "      <th>type</th>\n",
       "      <th></th>\n",
       "      <th></th>\n",
       "    </tr>\n",
       "  </thead>\n",
       "  <tbody>\n",
       "    <tr>\n",
       "      <th>CASH_IN</th>\n",
       "      <td>65987</td>\n",
       "      <td>0</td>\n",
       "    </tr>\n",
       "    <tr>\n",
       "      <th>CASH_OUT</th>\n",
       "      <td>104850</td>\n",
       "      <td>192</td>\n",
       "    </tr>\n",
       "    <tr>\n",
       "      <th>DEBIT</th>\n",
       "      <td>1955</td>\n",
       "      <td>0</td>\n",
       "    </tr>\n",
       "    <tr>\n",
       "      <th>PAYMENT</th>\n",
       "      <td>101920</td>\n",
       "      <td>0</td>\n",
       "    </tr>\n",
       "    <tr>\n",
       "      <th>TRANSFER</th>\n",
       "      <td>24901</td>\n",
       "      <td>195</td>\n",
       "    </tr>\n",
       "  </tbody>\n",
       "</table>\n",
       "</div>"
      ],
      "text/plain": [
       "isFraud        0    1\n",
       "type                 \n",
       "CASH_IN    65987    0\n",
       "CASH_OUT  104850  192\n",
       "DEBIT       1955    0\n",
       "PAYMENT   101920    0\n",
       "TRANSFER   24901  195"
      ]
     },
     "execution_count": 19,
     "metadata": {},
     "output_type": "execute_result"
    }
   ],
   "source": [
    "pd.crosstab(df_train['type'], df_train['isFraud'])"
   ]
  },
  {
   "cell_type": "code",
   "execution_count": 21,
   "metadata": {},
   "outputs": [
    {
     "data": {
      "image/png": "[encoded data removed]",
      "text/plain": [
       "<Figure size 432x288 with 1 Axes>"
      ]
     },
     "metadata": {},
     "output_type": "display_data"
    }
   ],
   "source": [
    "ax=sns.countplot('type', data=df_train[(df_train['isFraud'] == 1)])\n",
    "plt.title('Dolandiricilik Dagilimi', fontsize=14)\n",
    "for p in ax.patches:\n",
    "    ax.annotate(str(format(int(p.get_height()), ',d')), (p.get_x(), p.get_height()))\n",
    "\n",
    "plt.show()"
   ]
  },
  {
   "cell_type": "markdown",
   "metadata": {},
   "source": [
    "Beş işlem türünden, dolandırıcılığın yalnızca ikisinde gerçekleştiğini, paranın bir müşteriye/dolandırıcıya gönderildiği **'TRANSFER'** ve müşteriye/dolandırıcıya nakit ödeme yapan bir tüccara para gönderildiği **'CASH_OUT'** işleminde gerçekleştiğini tespit ettik. Dikkat çekici bir şekilde, hileli TRANSFER'lerin sayısı, hileli CASH_OUT'ların sayısına neredeyse eşittir."
   ]
  },
  {
   "cell_type": "markdown",
   "metadata": {},
   "source": [
    "### 4 - Step (Adım)"
   ]
  },
  {
   "cell_type": "code",
   "execution_count": 22,
   "metadata": {},
   "outputs": [],
   "source": [
    "fraud = df_train[df_train[\"isFraud\"] == 1]\n",
    "Notfraud = df_train[df_train[\"isFraud\"] == 0]"
   ]
  },
  {
   "cell_type": "code",
   "execution_count": 25,
   "metadata": {},
   "outputs": [],
   "source": [
    "Notfraud['İşlem Saati'] = Notfraud['step'] % 24\n",
    "fraud['İşlem Saati'] = fraud['step'] % 24"
   ]
  },
  {
   "cell_type": "markdown",
   "metadata": {},
   "source": [
    "## Dolandırıcılık Olmayan Dağılımı"
   ]
  },
  {
   "cell_type": "code",
   "execution_count": 26,
   "metadata": {},
   "outputs": [
    {
     "data": {
      "image/png": "[encoded data removed]",
      "text/plain": [
       "<Figure size 432x288 with 1 Axes>"
      ]
     },
     "metadata": {},
     "output_type": "display_data"
    }
   ],
   "source": [
    "sns.histplot(data = Notfraud\n",
    "            ,x = 'İşlem Saati'\n",
    "            ,bins=50\n",
    "            );"
   ]
  },
  {
   "cell_type": "markdown",
   "metadata": {},
   "source": [
    "## Dolandırıcılık Dağılımı"
   ]
  },
  {
   "cell_type": "code",
   "execution_count": 28,
   "metadata": {},
   "outputs": [
    {
     "data": {
      "image/png": "[encoded data removed]",
      "text/plain": [
       "<Figure size 432x288 with 1 Axes>"
      ]
     },
     "metadata": {},
     "output_type": "display_data"
    }
   ],
   "source": [
    "df_train['İşlem Saati'] = df_train['step'] % 24\n",
    "frauds_hour = pd.concat([df_train.groupby(\"İşlem Saati\")[\"isFraud\"].sum(),df_train.groupby(\"İşlem Saati\")[\"isFraud\"].count()],axis=1)\n",
    "frauds_hour.columns = [\"Frauds\",\"Transactions\"]\n",
    "frauds_hour[\"fraud_rate\"] = frauds_hour.Frauds/frauds_hour.Transactions\n",
    "sns.barplot(x=frauds_hour.index,y=frauds_hour.fraud_rate)\n",
    "plt.show()"
   ]
  },
  {
   "cell_type": "markdown",
   "metadata": {},
   "source": [
    "**İlginç olabilecek bir başka analiz de, dolandırıcılık saldırılarının genellikle günün hangi saatinde gerçekleştiğidir. Step değişkeninden günün saatini alabiliriz. Aşağıdaki grafik, dolandırıcılıkları günün farklı saatlerinde göstermektedir. Dolandırıcılıkların en çok uyku saatlerinde gerçekleştiğini söylüyor. Sabah 4 ve akşam 5 arasında gerçekleşen işlemlerin %20'ye yakını dolandırıcılık işlemleridir.**"
   ]
  },
  {
   "cell_type": "code",
   "execution_count": 29,
   "metadata": {},
   "outputs": [],
   "source": [
    "# Nesne türüne dönüştürme\n",
    "df_train['İşlem Saati'] = df_train['İşlem Saati'].astype('object')"
   ]
  },
  {
   "cell_type": "code",
   "execution_count": 31,
   "metadata": {},
   "outputs": [
    {
     "data": {
      "image/png": "[encoded data removed]",
      "text/plain": [
       "<Figure size 1080x360 with 1 Axes>"
      ]
     },
     "metadata": {},
     "output_type": "display_data"
    }
   ],
   "source": [
    "# Ortalama. her işlem türü için her saatteki işlem tutarı\n",
    "plt.figure(figsize=(15,5))\n",
    "sns.lineplot(data=df_train.groupby(['İşlem Saati','type']).agg({'amount' : 'mean'}).round(2).reset_index(),\n",
    "             x='İşlem Saati',\n",
    "             y='amount',\n",
    "             hue='type')\n",
    "plt.xlabel('İşlemin Saati', fontsize=15, fontweight=Ortalama. her işlem türü için her saatteki işlem tutarı'bold')\n",
    "plt.xticks(range(24), range(24),fontsize=15, fontweight='bold', rotation=0)\n",
    "plt.ylabel('Ortalama İşlem Tutarı (Milyon)', fontsize=15, fontweight='bold')\n",
    "plt.yticks(fontsize=15, fontweight='bold')\n",
    "plt.title('Her Saatteki Ortalama İşlem Tutarı', fontsize=15, fontweight='bold')\n",
    "plt.show()"
   ]
  },
  {
   "cell_type": "code",
   "execution_count": 32,
   "metadata": {},
   "outputs": [
    {
     "name": "stderr",
     "output_type": "stream",
     "text": [
      "*c* argument looks like a single numeric RGB or RGBA sequence, which should be avoided as value-mapping will have precedence in case its length matches with *x* & *y*.  Please use the *color* keyword-argument or provide a 2-D array with a single row if you intend to specify the same RGB or RGBA value for all points.\n"
     ]
    },
    {
     "data": {
      "text/plain": [
       "Text(0.5, 1.0, 'Tutar ve Bakiye')"
      ]
     },
     "execution_count": 32,
     "metadata": {},
     "output_type": "execute_result"
    },
    {
     "data": {
      "image/png": "[encoded data removed]",
      "text/plain": [
       "<Figure size 720x576 with 1 Axes>"
      ]
     },
     "metadata": {},
     "output_type": "display_data"
    }
   ],
   "source": [
    "newscatplot=df_train[df_train['isFraud']==1]\n",
    "plt.figure(figsize=(10,8))\n",
    "ax = plt.gca()\n",
    "ax.set_ylim(0,2*1e7)\n",
    "ax.set_xlim(0,2*1e7)\n",
    "df_train.plot.scatter(x='oldbalanceOrg',y='amount', ax=ax,edgecolors='red',s=100,alpha=0.1,label=\"Yasal İşlem\")\n",
    "newscatplot.plot.scatter(x='oldbalanceOrg',y='amount', color='#FCD735', ax=ax,edgecolors='red',s=100,alpha=0.1,label=\"Dolandırıcılık İşlemi\")\n",
    "plt.title('Tutar ve Bakiye',fontsize=25,color='#E43A36')"
   ]
  },
  {
   "cell_type": "markdown",
   "metadata": {},
   "source": [
    "**Yukarıdaki şekil, yasadışı parayı ve günlük izin verilen transfer sınırına ulaşana ve ardından durana kadar nasıl artırılacağını gösterir (örnek) Günlük izin verilen transfer limiti bu tutarda 50 ABD Dolarıdır, müşteri bu bakiyeden fazlasını transfer edemez. 24 saat tamamlandı.**"
   ]
  },
  {
   "cell_type": "markdown",
   "metadata": {},
   "source": [
    "## Özellik mühendisliği"
   ]
  },
  {
   "cell_type": "code",
   "execution_count": 33,
   "metadata": {},
   "outputs": [],
   "source": [
    "df_train = df_train.loc[(df_train.type == 'TRANSFER') | (df_train.type == 'CASH_OUT')]"
   ]
  },
  {
   "cell_type": "code",
   "execution_count": 34,
   "metadata": {},
   "outputs": [],
   "source": [
    "df_train[\"errorbalanceOrg\"] = df_train.newbalanceOrig + df_train.amount - df_train.oldbalanceOrg\n",
    "df_train[\"errorbalanceDest\"] = df_train.oldbalanceDest + df_train.amount - df_train.newbalanceDest"
   ]
  },
  {
   "cell_type": "markdown",
   "metadata": {},
   "source": [
    "**Daha önce görüldüğü gibi, tutar 0 olmadığında oldbalanceOrg,newbalanceOrig,oldbalanceDest,newbalanceDest'in 0 değeri, hileli işlem yapma olasılığı yüksektir, (oldbalanceOrg,newbalanceOrig,amount) ve (oldbalanceDest,newbalanceDest,amount) birleştiren yeni özellikler yaratacağız.**"
   ]
  },
  {
   "cell_type": "markdown",
   "metadata": {},
   "source": [
    "# Temel Çizgi"
   ]
  },
  {
   "cell_type": "code",
   "execution_count": 35,
   "metadata": {},
   "outputs": [],
   "source": [
    "df_train = pd.concat([df_train, pd.get_dummies(df_train['type'], prefix='type')],axis=1) "
   ]
  },
  {
   "cell_type": "code",
   "execution_count": 36,
   "metadata": {},
   "outputs": [],
   "source": [
    "df_train = df_train.drop(['nameOrig', 'nameDest', 'isFlaggedFraud',\"type\",\"İşlem Saati\"], axis = 1)"
   ]
  },
  {
   "cell_type": "code",
   "execution_count": 37,
   "metadata": {},
   "outputs": [],
   "source": [
    "y_train = df_train[\"isFraud\"]\n",
    "X_train = df_train.drop(['isFraud'],axis=1)"
   ]
  },
  {
   "cell_type": "code",
   "execution_count": 38,
   "metadata": {},
   "outputs": [
    {
     "name": "stdout",
     "output_type": "stream",
     "text": [
      "<class 'pandas.core.frame.DataFrame'>\n",
      "RangeIndex: 6362620 entries, 0 to 6362619\n",
      "Data columns (total 11 columns):\n",
      " #   Column          Dtype  \n",
      "---  ------          -----  \n",
      " 0   step            int64  \n",
      " 1   type            object \n",
      " 2   amount          float64\n",
      " 3   nameOrig        object \n",
      " 4   oldbalanceOrg   float64\n",
      " 5   newbalanceOrig  float64\n",
      " 6   nameDest        object \n",
      " 7   oldbalanceDest  float64\n",
      " 8   newbalanceDest  float64\n",
      " 9   isFraud         int64  \n",
      " 10  isFlaggedFraud  int64  \n",
      "dtypes: float64(5), int64(3), object(3)\n",
      "memory usage: 534.0+ MB\n"
     ]
    }
   ],
   "source": [
    "df.info()"
   ]
  },
  {
   "cell_type": "markdown",
   "metadata": {},
   "source": [
    "# Değer"
   ]
  },
  {
   "cell_type": "code",
   "execution_count": 39,
   "metadata": {},
   "outputs": [],
   "source": [
    "df_val = df_val.loc[(df_val.type == 'TRANSFER') | (df_val.type == 'CASH_OUT')]\n",
    "\n",
    "df_val[\"errorbalanceOrg\"] = df_val.newbalanceOrig + df_val.amount - df_val.oldbalanceOrg\n",
    "df_val[\"errorbalanceDest\"] = df_val.oldbalanceDest + df_val.amount - df_val.newbalanceDest\n",
    "\n",
    "df_val = pd.concat([df_val, pd.get_dummies(df_val['type'], prefix='type')],axis=1) \n",
    "\n",
    "df_val = df_val.drop(['nameOrig', 'nameDest', 'isFlaggedFraud',\"type\"], axis = 1)"
   ]
  },
  {
   "cell_type": "code",
   "execution_count": 40,
   "metadata": {},
   "outputs": [],
   "source": [
    "y_val = df_val[\"isFraud\"]\n",
    "X_val= df_val.drop(['isFraud'],axis=1)"
   ]
  },
  {
   "cell_type": "markdown",
   "metadata": {},
   "source": [
    "# Rastgele Orman Sınıflandırıcısı"
   ]
  },
  {
   "cell_type": "code",
   "execution_count": 41,
   "metadata": {},
   "outputs": [],
   "source": [
    "from sklearn.ensemble import RandomForestClassifier"
   ]
  },
  {
   "cell_type": "code",
   "execution_count": 42,
   "metadata": {},
   "outputs": [],
   "source": [
    "from sklearn.metrics import confusion_matrix"
   ]
  },
  {
   "cell_type": "markdown",
   "metadata": {},
   "source": [
    "# Eğitim"
   ]
  },
  {
   "cell_type": "code",
   "execution_count": 43,
   "metadata": {},
   "outputs": [
    {
     "name": "stdout",
     "output_type": "stream",
     "text": [
      "              precision    recall  f1-score   support\n",
      "\n",
      "           0       1.00      1.00      1.00    129751\n",
      "           1       1.00      1.00      1.00       387\n",
      "\n",
      "    accuracy                           1.00    130138\n",
      "   macro avg       1.00      1.00      1.00    130138\n",
      "weighted avg       1.00      1.00      1.00    130138\n",
      "\n",
      "[[129751      0]\n",
      " [     0    387]]\n"
     ]
    }
   ],
   "source": [
    "RF = RandomForestClassifier(random_state=1)\n",
    "\n",
    "RF.fit(X_train, y_train)\n",
    "\n",
    "y_predict = RF.predict(X_train)\n",
    "\n",
    "# Modeli değerlendiriniz\n",
    "print(classification_report(y_train, y_predict))\n",
    "print(confusion_matrix(y_train, y_predict))"
   ]
  },
  {
   "cell_type": "markdown",
   "metadata": {},
   "source": [
    "# Değer"
   ]
  },
  {
   "cell_type": "code",
   "execution_count": 44,
   "metadata": {},
   "outputs": [
    {
     "name": "stdout",
     "output_type": "stream",
     "text": [
      "              precision    recall  f1-score   support\n",
      "\n",
      "           0       1.00      1.00      1.00     43179\n",
      "           1       1.00      1.00      1.00       129\n",
      "\n",
      "    accuracy                           1.00     43308\n",
      "   macro avg       1.00      1.00      1.00     43308\n",
      "weighted avg       1.00      1.00      1.00     43308\n",
      "\n",
      "[[43179     0]\n",
      " [    0   129]]\n"
     ]
    }
   ],
   "source": [
    "RF = RandomForestClassifier(random_state=1)\n",
    "\n",
    "RF.fit(X_train, y_train)\n",
    "\n",
    "y_predict = RF.predict(X_val)\n",
    "\n",
    "# Modeli değerlendiriniz\n",
    "print(classification_report(y_val, y_predict))\n",
    "print(confusion_matrix(y_val, y_predict))"
   ]
  },
  {
   "cell_type": "markdown",
   "metadata": {},
   "source": [
    "# Test"
   ]
  },
  {
   "cell_type": "code",
   "execution_count": 45,
   "metadata": {},
   "outputs": [],
   "source": [
    "df_test = df_test.loc[(df_test.type == 'TRANSFER') | (df_test.type == 'CASH_OUT')]\n",
    "\n",
    "df_test[\"errorbalanceOrg\"] = df_test.newbalanceOrig + df_test.amount - df_test.oldbalanceOrg\n",
    "df_test[\"errorbalanceDest\"] = df_test.oldbalanceDest + df_test.amount - df_test.newbalanceDest\n",
    "\n",
    "df_test = pd.concat([df_test, pd.get_dummies(df_test['type'], prefix='type')],axis=1) \n",
    "\n",
    "df_test = df_test.drop(['nameOrig', 'nameDest', 'isFlaggedFraud',\"type\"], axis = 1)"
   ]
  },
  {
   "cell_type": "code",
   "execution_count": 46,
   "metadata": {},
   "outputs": [],
   "source": [
    "y_test = df_test[\"isFraud\"]\n",
    "X_test = df_test.drop(['isFraud'],axis=1)"
   ]
  },
  {
   "cell_type": "code",
   "execution_count": 47,
   "metadata": {},
   "outputs": [
    {
     "name": "stdout",
     "output_type": "stream",
     "text": [
      "              precision    recall  f1-score   support\n",
      "\n",
      "           0       1.00      1.00      1.00     43235\n",
      "           1       1.00      0.99      1.00       129\n",
      "\n",
      "    accuracy                           1.00     43364\n",
      "   macro avg       1.00      1.00      1.00     43364\n",
      "weighted avg       1.00      1.00      1.00     43364\n",
      "\n",
      "[[43235     0]\n",
      " [    1   128]]\n"
     ]
    }
   ],
   "source": [
    "RF = RandomForestClassifier(random_state=1)\n",
    "\n",
    "RF.fit(X_train, y_train)\n",
    "\n",
    "y_predict = RF.predict(X_test)\n",
    "\n",
    "# Modeli değerlendiriniz\n",
    "print(classification_report(y_test, y_predict))\n",
    "print(confusion_matrix(y_test, y_predict))"
   ]
  },
  {
   "cell_type": "markdown",
   "metadata": {},
   "source": [
    "## Eğitim ve testte doğruluğun %100 olduğunu görebiliyoruz ve bunun nedeni verilerin üretilmesidir."
   ]
  },
  {
   "cell_type": "markdown",
   "metadata": {},
   "source": [
    "-----------------------------------------------------------------------------------------------------------------------------"
   ]
  },
  {
   "cell_type": "markdown",
   "metadata": {},
   "source": [
    "# Projenin Adı: Dolandırıcılık Tespiti için Sentetik Finansal Veri Kümeleri\n",
    "\n",
    "### Kullanıldı Dil: Python \n",
    "\n",
    "### Ad/Soyad: Mohammad Amin / ASLAMI\n",
    "\n",
    "### Danışman: Prof.Dr.Fatih ÖZKAYNAK\n",
    "\n",
    "### Fakülte/Bölüm: Teknoloji Fakültesi/Yazılım Mühendisliği\n",
    "\n",
    "### Üniversite: Fırat Üniversitesi/Elazığ"
   ]
  },
  {
   "cell_type": "code",
   "execution_count": null,
   "metadata": {},
   "outputs": [],
   "source": []
  }
 ],
 "metadata": {
  "kernelspec": {
   "display_name": "Python 3",
   "language": "python",
   "name": "python3"
  },
  "language_info": {
   "codemirror_mode": {
    "name": "ipython",
    "version": 3
   },
   "file_extension": ".py",
   "mimetype": "text/x-python",
   "name": "python",
   "nbconvert_exporter": "python",
   "pygments_lexer": "ipython3",
   "version": "3.7.3"
  }
 },
 "nbformat": 4,
 "nbformat_minor": 5
}
